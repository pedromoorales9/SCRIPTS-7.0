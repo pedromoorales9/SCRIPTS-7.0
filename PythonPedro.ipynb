{
  "nbformat": 4,
  "nbformat_minor": 0,
  "metadata": {
    "colab": {
      "provenance": []
    },
    "kernelspec": {
      "name": "python3",
      "display_name": "Python 3"
    },
    "language_info": {
      "name": "python"
    }
  },
  "cells": [
    {
      "cell_type": "markdown",
      "source": [
        "\n",
        "\n",
        "1.   Dos motos viajan a diferentes velocidades (**vel1** y **vel2**) y están distanciados por una distancia **dis**. La moto que se encuentra detrás lleva una velocidad mayor que la primera. Se pide realizar un script en python que solicite al usuario la distancia entre las motos en km y las velocidades de las mismas y con ello devolver en cuanto tiempo la moto 2 alcanzará a la moto 1."
      ],
      "metadata": {
        "id": "yU4DEf3HBMru"
      }
    },
    {
      "cell_type": "code",
      "source": [
        "# Solicitamos los datos al usuario\n",
        "distancia = float(input(\"Ingrese la distancia entre las motos (km): \"))\n",
        "velocidad1 = float(input(\"Ingrese la velocidad de la moto 1 (km/h): \"))\n",
        "velocidad2 = float(input(\"Ingrese la velocidad de la moto 2 (km/h): \"))\n",
        "\n",
        "# Verificamos que la velocidad2 sea mayor que velocidad1\n",
        "if velocidad2 <= velocidad1:\n",
        "    print(\"Error: La velocidad de la moto 2 debe ser mayor que la de la moto 1\")\n",
        "else:\n",
        "    # Calculamos el tiempo usando la fórmula: tiempo = distancia / (velocidad2 - velocidad1)\n",
        "    tiempo = distancia / (velocidad2 - velocidad1)\n",
        "\n",
        "    # Convertimos el tiempo a horas y minutos\n",
        "    horas = int(tiempo)\n",
        "    minutos = int((tiempo - horas) * 60)\n",
        "\n",
        "    # Mostramos el resultado\n",
        "    print(f\"\\nTiempo de encuentro:\")\n",
        "    print(f\"Horas: {horas}\")\n",
        "    print(f\"Minutos: {minutos}\")"
      ],
      "metadata": {
        "id": "nLCVu66ZDnpq",
        "outputId": "93ac9439-ad06-4ed7-b8c5-6024f27aa507",
        "colab": {
          "base_uri": "https://localhost:8080/"
        }
      },
      "execution_count": 2,
      "outputs": [
        {
          "output_type": "stream",
          "name": "stdout",
          "text": [
            "Ingrese la distancia entre las motos (km): 200\n",
            "Ingrese la velocidad de la moto 1 (km/h): 20\n",
            "Ingrese la velocidad de la moto 2 (km/h): 200\n",
            "\n",
            "Tiempo de encuentro:\n",
            "Horas: 1\n",
            "Minutos: 6\n"
          ]
        }
      ]
    },
    {
      "cell_type": "markdown",
      "source": [
        "2. El tutor de 2º ASIR esta organizando un viaje a Granada, y requiere determinar cuánto debe cobrar a cada alumne y cuánto debe pagar a la agencia de viajes. La forma de cobrar es la siguiente: si son 100 alumnos o más, el costo por cada alumno es de 65 euros; de 50 a 99 alumnos, el costo es de 70 euros, de 30 a 49, de 95 euros, y si son menos de 30, el costo de la guagua es de 4000 euros, sin importar el número de alumnos. Realice un script que permita determinar el pago a la compañía de guaguas y lo que debe pagar cada alumno por el viaje."
      ],
      "metadata": {
        "id": "bTX1b7swDmVd"
      }
    },
    {
      "cell_type": "code",
      "source": [
        "# Solicitamos el número de alumnos\n",
        "num_alumnos = int(input(\"Ingrese el número de alumnos que irán al viaje: \"))\n",
        "\n",
        "# Inicializamos las variables para el costo total y por alumno\n",
        "costo_total = 0\n",
        "costo_por_alumno = 0\n",
        "\n",
        "# Calculamos el costo según el número de alumnos\n",
        "if num_alumnos >= 100:\n",
        "    costo_por_alumno = 65\n",
        "    costo_total = num_alumnos * costo_por_alumno\n",
        "elif num_alumnos >= 50:\n",
        "    costo_por_alumno = 70\n",
        "    costo_total = num_alumnos * costo_por_alumno\n",
        "elif num_alumnos >= 30:\n",
        "    costo_por_alumno = 95\n",
        "    costo_total = num_alumnos * costo_por_alumno\n",
        "else:\n",
        "    costo_total = 4000\n",
        "    costo_por_alumno = costo_total / num_alumnos if num_alumnos > 0 else 0\n",
        "\n",
        "# Mostramos los resultados\n",
        "print(\"\\nResultados del viaje a Granada:\")\n",
        "print(f\"Número de alumnos: {num_alumnos}\")\n",
        "print(f\"Costo total a pagar a la compañía: {costo_total:.2f} euros\")\n",
        "print(f\"Costo por alumno: {costo_por_alumno:.2f} euros\")"
      ],
      "metadata": {
        "id": "1_orCltzEQhh",
        "outputId": "96c56333-a778-404a-d8b8-cb63e2925476",
        "colab": {
          "base_uri": "https://localhost:8080/"
        }
      },
      "execution_count": 3,
      "outputs": [
        {
          "output_type": "stream",
          "name": "stdout",
          "text": [
            "Ingrese el número de alumnos que irán al viaje: 13\n",
            "\n",
            "Resultados del viaje a Granada:\n",
            "Número de alumnos: 13\n",
            "Costo total a pagar a la compañía: 4000.00 euros\n",
            "Costo por alumno: 307.69 euros\n"
          ]
        }
      ]
    },
    {
      "cell_type": "markdown",
      "source": [
        "3. Crea un script que permita adivinar un número. La aplicación genera un número aleatorio del 1 al 100. A continuación va pidiendo números y va respondiendo si el número a adivinar es mayor o menor que el introducido, además de los intentos que te quedan (tienes 10 intentos para acertarlo).  El programa termina cuando se acierta el número (además te dice en cuantos  intentos lo has acertado), si se llega al limite de intentos te muestra el  número que había generado."
      ],
      "metadata": {
        "id": "ksUYFjvcFhpq"
      }
    },
    {
      "cell_type": "code",
      "source": [
        "import random\n",
        "\n",
        "# Generamos un número aleatorio entre 1 y 100\n",
        "numero_secreto = random.randint(1, 100)\n",
        "intentos_maximos = 10\n",
        "intentos_realizados = 0\n",
        "adivinado = False\n",
        "\n",
        "print(\"¡Bienvenido al juego de adivinar el número!\")\n",
        "print(f\"Tienes {intentos_maximos} intentos para adivinar un número entre 1 y 100\")\n",
        "\n",
        "# Bucle principal del juego\n",
        "while intentos_realizados < intentos_maximos and not adivinado:\n",
        "    # Calculamos y mostramos los intentos restantes\n",
        "    intentos_restantes = intentos_maximos - intentos_realizados\n",
        "\n",
        "    # Solicitamos el número al usuario\n",
        "    try:\n",
        "        numero_usuario = int(input(f\"\\nTe quedan {intentos_restantes} intentos. Introduce un número: \"))\n",
        "\n",
        "        # Verificamos que el número esté en el rango correcto\n",
        "        if numero_usuario < 1 or numero_usuario > 100:\n",
        "            print(\"Por favor, introduce un número entre 1 y 100\")\n",
        "            continue\n",
        "\n",
        "        # Incrementamos el contador de intentos\n",
        "        intentos_realizados += 1\n",
        "\n",
        "        # Comparamos el número\n",
        "        if numero_usuario == numero_secreto:\n",
        "            adivinado = True\n",
        "        elif numero_usuario < numero_secreto:\n",
        "            print(\"El número secreto es MAYOR\")\n",
        "        else:\n",
        "            print(\"El número secreto es MENOR\")\n",
        "\n",
        "    except ValueError:\n",
        "        print(\"Por favor, introduce un número válido\")\n",
        "        continue\n",
        "\n",
        "# Mostramos el resultado final\n",
        "if adivinado:\n",
        "    print(f\"\\n¡Felicidades! Has adivinado el número {numero_secreto}\")\n",
        "    print(f\"Lo has conseguido en {intentos_realizados} intentos\")\n",
        "else:\n",
        "    print(f\"\\n¡Se acabaron los intentos! El número secreto era {numero_secreto}\")"
      ],
      "metadata": {
        "id": "ePA_F-ggERZq",
        "outputId": "befdd540-dc1a-4c2b-8824-38bc9bd988b7",
        "colab": {
          "base_uri": "https://localhost:8080/"
        }
      },
      "execution_count": 4,
      "outputs": [
        {
          "output_type": "stream",
          "name": "stdout",
          "text": [
            "¡Bienvenido al juego de adivinar el número!\n",
            "Tienes 10 intentos para adivinar un número entre 1 y 100\n",
            "\n",
            "Te quedan 10 intentos. Introduce un número: 2\n",
            "El número secreto es MAYOR\n",
            "\n",
            "Te quedan 9 intentos. Introduce un número: 3\n",
            "El número secreto es MAYOR\n",
            "\n",
            "Te quedan 8 intentos. Introduce un número: 40\n",
            "El número secreto es MAYOR\n",
            "\n",
            "Te quedan 7 intentos. Introduce un número: 80\n",
            "El número secreto es MENOR\n",
            "\n",
            "Te quedan 6 intentos. Introduce un número: 60\n",
            "El número secreto es MAYOR\n",
            "\n",
            "Te quedan 5 intentos. Introduce un número: 70\n",
            "El número secreto es MAYOR\n",
            "\n",
            "Te quedan 4 intentos. Introduce un número: 76\n",
            "\n",
            "¡Felicidades! Has adivinado el número 76\n",
            "Lo has conseguido en 7 intentos\n"
          ]
        }
      ]
    },
    {
      "cell_type": "markdown",
      "source": [
        "4. Realizar un script que pida una String por teclado que contenga espacios y devuelva el número de palabrás que contenga"
      ],
      "metadata": {
        "id": "a8VUj4CxH5Lh"
      }
    },
    {
      "cell_type": "code",
      "source": [
        "# Solicitamos la cadena de texto al usuario\n",
        "texto = input(\"Introduce una frase: \")\n",
        "\n",
        "# Método 1: Usando split() y len()\n",
        "num_palabras = len(texto.split())\n",
        "\n",
        "# Mostramos el resultado\n",
        "print(f\"\\nLa frase contiene {num_palabras} palabras\")\n",
        "\n",
        "# Método alternativo: usando split() con manejo de espacios múltiples\n",
        "num_palabras_alt = len([palabra for palabra in texto.split() if palabra.strip()])\n",
        "\n",
        "print(f\"Verificación: {num_palabras_alt} palabras\")"
      ],
      "metadata": {
        "id": "XjlclapwESaJ",
        "outputId": "bed16dea-80ba-4d29-c50f-9c5ef3d7a6fd",
        "colab": {
          "base_uri": "https://localhost:8080/"
        }
      },
      "execution_count": 5,
      "outputs": [
        {
          "output_type": "stream",
          "name": "stdout",
          "text": [
            "Introduce una frase: mano a mano \n",
            "\n",
            "La frase contiene 3 palabras\n",
            "Verificación: 3 palabras\n"
          ]
        }
      ]
    },
    {
      "cell_type": "markdown",
      "source": [
        "5. Realiza un script que se le pasen 5 notas de un alumno por teclado (comprendidas entre 0 y 10). A continuación debe mostrar todas las notas, la nota media, la nota más alta que ha sacado y la menor.\n",
        "\n"
      ],
      "metadata": {
        "id": "hyvKdc75IXd5"
      }
    },
    {
      "cell_type": "code",
      "source": [
        "# Inicializamos una lista para almacenar las notas\n",
        "notas = []\n",
        "\n",
        "# Solicitamos las 5 notas al usuario\n",
        "for i in range(5):\n",
        "    while True:\n",
        "        try:\n",
        "            nota = float(input(f\"Introduce la nota {i+1} (0-10): \"))\n",
        "            # Verificamos que la nota esté en el rango correcto\n",
        "            if 0 <= nota <= 10:\n",
        "                notas.append(nota)\n",
        "                break\n",
        "            else:\n",
        "                print(\"Error: La nota debe estar entre 0 y 10\")\n",
        "        except ValueError:\n",
        "            print(\"Error: Introduce un número válido\")\n",
        "\n",
        "# Calculamos las estadísticas\n",
        "nota_media = sum(notas) / len(notas)\n",
        "nota_maxima = max(notas)\n",
        "nota_minima = min(notas)\n",
        "\n",
        "# Mostramos los resultados\n",
        "print(\"\\nResumen de notas:\")\n",
        "print(\"----------------\")\n",
        "print(\"Todas las notas:\", end=\" \")\n",
        "for nota in notas:\n",
        "    print(f\"{nota:.2f}\", end=\" \")\n",
        "print(\"\\n\")\n",
        "\n",
        "print(f\"Nota media: {nota_media:.2f}\")\n",
        "print(f\"Nota más alta: {nota_maxima:.2f}\")\n",
        "print(f\"Nota más baja: {nota_minima:.2f}\")"
      ],
      "metadata": {
        "id": "nOgqvWORETFB",
        "outputId": "a36e6200-ff58-4604-99fd-621424acb988",
        "colab": {
          "base_uri": "https://localhost:8080/",
          "height": 365
        }
      },
      "execution_count": 6,
      "outputs": [
        {
          "output_type": "error",
          "ename": "KeyboardInterrupt",
          "evalue": "Interrupted by user",
          "traceback": [
            "\u001b[0;31m---------------------------------------------------------------------------\u001b[0m",
            "\u001b[0;31mKeyboardInterrupt\u001b[0m                         Traceback (most recent call last)",
            "\u001b[0;32m<ipython-input-6-4d3bafa41180>\u001b[0m in \u001b[0;36m<cell line: 0>\u001b[0;34m()\u001b[0m\n\u001b[1;32m      6\u001b[0m     \u001b[0;32mwhile\u001b[0m \u001b[0;32mTrue\u001b[0m\u001b[0;34m:\u001b[0m\u001b[0;34m\u001b[0m\u001b[0;34m\u001b[0m\u001b[0m\n\u001b[1;32m      7\u001b[0m         \u001b[0;32mtry\u001b[0m\u001b[0;34m:\u001b[0m\u001b[0;34m\u001b[0m\u001b[0;34m\u001b[0m\u001b[0m\n\u001b[0;32m----> 8\u001b[0;31m             \u001b[0mnota\u001b[0m \u001b[0;34m=\u001b[0m \u001b[0mfloat\u001b[0m\u001b[0;34m(\u001b[0m\u001b[0minput\u001b[0m\u001b[0;34m(\u001b[0m\u001b[0;34mf\"Introduce la nota {i+1} (0-10): \"\u001b[0m\u001b[0;34m)\u001b[0m\u001b[0;34m)\u001b[0m\u001b[0;34m\u001b[0m\u001b[0;34m\u001b[0m\u001b[0m\n\u001b[0m\u001b[1;32m      9\u001b[0m             \u001b[0;31m# Verificamos que la nota esté en el rango correcto\u001b[0m\u001b[0;34m\u001b[0m\u001b[0;34m\u001b[0m\u001b[0m\n\u001b[1;32m     10\u001b[0m             \u001b[0;32mif\u001b[0m \u001b[0;36m0\u001b[0m \u001b[0;34m<=\u001b[0m \u001b[0mnota\u001b[0m \u001b[0;34m<=\u001b[0m \u001b[0;36m10\u001b[0m\u001b[0;34m:\u001b[0m\u001b[0;34m\u001b[0m\u001b[0;34m\u001b[0m\u001b[0m\n",
            "\u001b[0;32m/usr/local/lib/python3.11/dist-packages/ipykernel/kernelbase.py\u001b[0m in \u001b[0;36mraw_input\u001b[0;34m(self, prompt)\u001b[0m\n\u001b[1;32m    849\u001b[0m                 \u001b[0;34m\"raw_input was called, but this frontend does not support input requests.\"\u001b[0m\u001b[0;34m\u001b[0m\u001b[0;34m\u001b[0m\u001b[0m\n\u001b[1;32m    850\u001b[0m             )\n\u001b[0;32m--> 851\u001b[0;31m         return self._input_request(str(prompt),\n\u001b[0m\u001b[1;32m    852\u001b[0m             \u001b[0mself\u001b[0m\u001b[0;34m.\u001b[0m\u001b[0m_parent_ident\u001b[0m\u001b[0;34m,\u001b[0m\u001b[0;34m\u001b[0m\u001b[0;34m\u001b[0m\u001b[0m\n\u001b[1;32m    853\u001b[0m             \u001b[0mself\u001b[0m\u001b[0;34m.\u001b[0m\u001b[0m_parent_header\u001b[0m\u001b[0;34m,\u001b[0m\u001b[0;34m\u001b[0m\u001b[0;34m\u001b[0m\u001b[0m\n",
            "\u001b[0;32m/usr/local/lib/python3.11/dist-packages/ipykernel/kernelbase.py\u001b[0m in \u001b[0;36m_input_request\u001b[0;34m(self, prompt, ident, parent, password)\u001b[0m\n\u001b[1;32m    893\u001b[0m             \u001b[0;32mexcept\u001b[0m \u001b[0mKeyboardInterrupt\u001b[0m\u001b[0;34m:\u001b[0m\u001b[0;34m\u001b[0m\u001b[0;34m\u001b[0m\u001b[0m\n\u001b[1;32m    894\u001b[0m                 \u001b[0;31m# re-raise KeyboardInterrupt, to truncate traceback\u001b[0m\u001b[0;34m\u001b[0m\u001b[0;34m\u001b[0m\u001b[0m\n\u001b[0;32m--> 895\u001b[0;31m                 \u001b[0;32mraise\u001b[0m \u001b[0mKeyboardInterrupt\u001b[0m\u001b[0;34m(\u001b[0m\u001b[0;34m\"Interrupted by user\"\u001b[0m\u001b[0;34m)\u001b[0m \u001b[0;32mfrom\u001b[0m \u001b[0;32mNone\u001b[0m\u001b[0;34m\u001b[0m\u001b[0;34m\u001b[0m\u001b[0m\n\u001b[0m\u001b[1;32m    896\u001b[0m             \u001b[0;32mexcept\u001b[0m \u001b[0mException\u001b[0m \u001b[0;32mas\u001b[0m \u001b[0me\u001b[0m\u001b[0;34m:\u001b[0m\u001b[0;34m\u001b[0m\u001b[0;34m\u001b[0m\u001b[0m\n\u001b[1;32m    897\u001b[0m                 \u001b[0mself\u001b[0m\u001b[0;34m.\u001b[0m\u001b[0mlog\u001b[0m\u001b[0;34m.\u001b[0m\u001b[0mwarning\u001b[0m\u001b[0;34m(\u001b[0m\u001b[0;34m\"Invalid Message:\"\u001b[0m\u001b[0;34m,\u001b[0m \u001b[0mexc_info\u001b[0m\u001b[0;34m=\u001b[0m\u001b[0;32mTrue\u001b[0m\u001b[0;34m)\u001b[0m\u001b[0;34m\u001b[0m\u001b[0;34m\u001b[0m\u001b[0m\n",
            "\u001b[0;31mKeyboardInterrupt\u001b[0m: Interrupted by user"
          ]
        }
      ]
    },
    {
      "cell_type": "markdown",
      "source": [
        "6. Realizar un script que cree una una tabla bidimensional de 5x5 y nombre 'diagonal'. La Componentes de la tabla en su diagonales deben de ser 1 y el resto 0. Se ha de mostrar el contenido de la tabla por pantalla."
      ],
      "metadata": {
        "id": "ZQxqS603I8S1"
      }
    },
    {
      "cell_type": "code",
      "source": [
        "# Creamos la matriz 5x5 inicializada con ceros\n",
        "diagonal = [[0 for j in range(5)] for i in range(5)]\n",
        "\n",
        "# Rellenamos la diagonal principal con unos\n",
        "for i in range(5):\n",
        "    diagonal[i][i] = 1\n",
        "\n",
        "# Mostramos la matriz de forma ordenada\n",
        "print(\"Matriz diagonal 5x5:\")\n",
        "print(\"-------------------\")\n",
        "for fila in diagonal:\n",
        "    for elemento in fila:\n",
        "        print(elemento, end=\" \")  # Imprimimos cada elemento con un espacio\n",
        "    print()  # Nueva línea al final de cada fila"
      ],
      "metadata": {
        "id": "b1tXQaS0ETrp",
        "outputId": "ce1a0723-69d0-4ba5-fd76-1586fa37120e",
        "colab": {
          "base_uri": "https://localhost:8080/"
        }
      },
      "execution_count": 7,
      "outputs": [
        {
          "output_type": "stream",
          "name": "stdout",
          "text": [
            "Matriz diagonal 5x5:\n",
            "-------------------\n",
            "1 0 0 0 0 \n",
            "0 1 0 0 0 \n",
            "0 0 1 0 0 \n",
            "0 0 0 1 0 \n",
            "0 0 0 0 1 \n"
          ]
        }
      ]
    },
    {
      "cell_type": "markdown",
      "source": [
        "7. Crea un script que pida un número y cree un diccionario cuyas claves sean desde el número 1 hasta el número indicado, y los valores sean los cuadrados de las claves.\n",
        "\n"
      ],
      "metadata": {
        "id": "Ah0c0PB1Nw_d"
      }
    },
    {
      "cell_type": "code",
      "source": [
        "# Solicitamos el número al usuario\n",
        "try:\n",
        "    numero = int(input(\"Introduce un número entero positivo: \"))\n",
        "\n",
        "    # Verificamos que el número sea positivo\n",
        "    if numero <= 0:\n",
        "        print(\"Por favor, introduce un número positivo\")\n",
        "    else:\n",
        "        # Creamos el diccionario usando comprensión de diccionarios\n",
        "        cuadrados = {i: i**2 for i in range(1, numero + 1)}\n",
        "\n",
        "        # Mostramos el diccionario de forma ordenada\n",
        "        print(\"\\nDiccionario de cuadrados:\")\n",
        "        print(\"------------------------\")\n",
        "        for clave, valor in cuadrados.items():\n",
        "            print(f\"Número {clave}: {valor}\")\n",
        "\n",
        "except ValueError:\n",
        "    print(\"Error: Debes introducir un número entero válido\")"
      ],
      "metadata": {
        "id": "OWcoMYqYEUez",
        "outputId": "05e88f68-8937-4444-8806-d99605ae9137",
        "colab": {
          "base_uri": "https://localhost:8080/"
        }
      },
      "execution_count": 8,
      "outputs": [
        {
          "output_type": "stream",
          "name": "stdout",
          "text": [
            "Introduce un número entero positivo: 13\n",
            "\n",
            "Diccionario de cuadrados:\n",
            "------------------------\n",
            "Número 1: 1\n",
            "Número 2: 4\n",
            "Número 3: 9\n",
            "Número 4: 16\n",
            "Número 5: 25\n",
            "Número 6: 36\n",
            "Número 7: 49\n",
            "Número 8: 64\n",
            "Número 9: 81\n",
            "Número 10: 100\n",
            "Número 11: 121\n",
            "Número 12: 144\n",
            "Número 13: 169\n"
          ]
        }
      ]
    },
    {
      "cell_type": "markdown",
      "source": [
        "8. Crea un script de una agenda en la que se guardan nombres y números de teléfono. En la agenda existirá un menú con las siguientes opciones:\n",
        " * **Añadir/modificar**: Nos pide un nombre. Si el nombre se encuentra en la agenda, debe mostrar el teléfono y, opcionalmente, permitir modificarlo si no es correcto. Si el nombre no se encuentra, debe permitir ingresar el teléfono correspondiente.\n",
        " * **Buscar**: Nos pide una cadena de caracteres, y nos muestras todos los contactos cuyos nombres comiencen por dicha cadena.\n",
        " * **Borrar**: Nos pide un nombre y si existe nos preguntará si queremos borrarlo de la agenda.\n",
        " * **Listar**: Nos muestra todos los contactos de la agenda.\n",
        "\n",
        "  Implementar el script con un diccionario."
      ],
      "metadata": {
        "id": "6vqpqY3DJ88o"
      }
    },
    {
      "cell_type": "code",
      "source": [
        "def mostrar_menu():\n",
        "    print(\"\\n--- AGENDA TELEFÓNICA ---\")\n",
        "    print(\"1. Añadir/modificar contacto\")\n",
        "    print(\"2. Buscar contacto\")\n",
        "    print(\"3. Borrar contacto\")\n",
        "    print(\"4. Listar contactos\")\n",
        "    print(\"5. Salir\")\n",
        "    return input(\"Seleccione una opción (1-5): \")\n",
        "\n",
        "def añadir_modificar(agenda):\n",
        "    nombre = input(\"Introduce el nombre del contacto: \")\n",
        "    if nombre in agenda:\n",
        "        print(f\"El contacto existe. Teléfono actual: {agenda[nombre]}\")\n",
        "        modificar = input(\"¿Quieres modificar el teléfono? (s/n): \")\n",
        "        if modificar.lower() == 's':\n",
        "            agenda[nombre] = input(\"Introduce el nuevo teléfono: \")\n",
        "    else:\n",
        "        agenda[nombre] = input(\"Introduce el teléfono: \")\n",
        "\n",
        "def buscar(agenda):\n",
        "    cadena = input(\"Introduce el inicio del nombre a buscar: \")\n",
        "    encontrados = {nombre: telefono for nombre, telefono in agenda.items()\n",
        "                  if nombre.lower().startswith(cadena.lower())}\n",
        "    if encontrados:\n",
        "        print(\"\\nContactos encontrados:\")\n",
        "        for nombre, telefono in encontrados.items():\n",
        "            print(f\"Nombre: {nombre}, Teléfono: {telefono}\")\n",
        "    else:\n",
        "        print(\"No se encontraron contactos\")\n",
        "\n",
        "def borrar(agenda):\n",
        "    nombre = input(\"Introduce el nombre del contacto a borrar: \")\n",
        "    if nombre in agenda:\n",
        "        confirmacion = input(f\"¿Estás seguro de borrar a {nombre}? (s/n): \")\n",
        "        if confirmacion.lower() == 's':\n",
        "            del agenda[nombre]\n",
        "            print(\"Contacto borrado exitosamente\")\n",
        "    else:\n",
        "        print(\"El contacto no existe en la agenda\")\n",
        "\n",
        "def listar(agenda):\n",
        "    if agenda:\n",
        "        print(\"\\nLista de contactos:\")\n",
        "        for nombre, telefono in agenda.items():\n",
        "            print(f\"Nombre: {nombre}, Teléfono: {telefono}\")\n",
        "    else:\n",
        "        print(\"La agenda está vacía\")\n",
        "\n",
        "def main():\n",
        "    agenda = {}\n",
        "    opcion = ''\n",
        "\n",
        "    while opcion != '5':\n",
        "        opcion = mostrar_menu()\n",
        "\n",
        "        if opcion == '1':\n",
        "            añadir_modificar(agenda)\n",
        "        elif opcion == '2':\n",
        "            buscar(agenda)\n",
        "        elif opcion == '3':\n",
        "            borrar(agenda)\n",
        "        elif opcion == '4':\n",
        "            listar(agenda)\n",
        "        elif opcion != '5':\n",
        "            print(\"Opción no válida\")\n",
        "\n",
        "# Ejecutamos el programa\n",
        "main()"
      ],
      "metadata": {
        "id": "GexEhTmSEVT4",
        "outputId": "0cdcbddd-c9ac-41d0-c8a8-5465c05c93d0",
        "colab": {
          "base_uri": "https://localhost:8080/"
        }
      },
      "execution_count": 9,
      "outputs": [
        {
          "name": "stdout",
          "output_type": "stream",
          "text": [
            "\n",
            "--- AGENDA TELEFÓNICA ---\n",
            "1. Añadir/modificar contacto\n",
            "2. Buscar contacto\n",
            "3. Borrar contacto\n",
            "4. Listar contactos\n",
            "5. Salir\n",
            "Seleccione una opción (1-5): 5\n"
          ]
        }
      ]
    },
    {
      "cell_type": "markdown",
      "source": [
        "9. Crear un script que al introducir una fecha nos diga a que día juliano corresponde. El día juliano correspondiente a una fecha es un número entero que indica los días que han transcurrido desde el 1 de enero.Para ello debes de hacer las siguientes funciones:\n",
        " * **LeerFecha**: Lee por teclado el día, mes y el año.\n",
        " * **DiasDelMes**: Recibe un mes y un año y devuelve el número de días\n",
        " * **EsBisiesto**: Recibido un año nos dice si es bisiesto o no.\n",
        " * **Calcular_Dia_Juliano**: Recibe una fecha y nos devuelve el día juliano."
      ],
      "metadata": {
        "id": "-PHluINDPCH5"
      }
    },
    {
      "cell_type": "code",
      "source": [
        "def EsBisiesto(año):\n",
        "    return año % 4 == 0 and (año % 100 != 0 or año % 400 == 0)\n",
        "\n",
        "def DiasDelMes(mes, año):\n",
        "    dias_por_mes = [31, 28, 31, 30, 31, 30, 31, 31, 30, 31, 30, 31]\n",
        "\n",
        "    # Si es febrero y el año es bisiesto\n",
        "    if mes == 2 and EsBisiesto(año):\n",
        "        return 29\n",
        "\n",
        "    return dias_por_mes[mes - 1]\n",
        "\n",
        "def LeerFecha():\n",
        "    dia = int(input(\"Introduce el día: \"))\n",
        "    mes = int(input(\"Introduce el mes: \"))\n",
        "    año = int(input(\"Introduce el año: \"))\n",
        "\n",
        "    # Validación básica de la fecha\n",
        "    if mes < 1 or mes > 12:\n",
        "        return None\n",
        "\n",
        "    dias_del_mes = DiasDelMes(mes, año)\n",
        "    if dia < 1 or dia > dias_del_mes:\n",
        "        return None\n",
        "\n",
        "    return (dia, mes, año)\n",
        "\n",
        "def Calcular_Dia_Juliano(fecha):\n",
        "    if fecha is None:\n",
        "        return None\n",
        "\n",
        "    dia, mes, año = fecha\n",
        "\n",
        "    # Sumamos los días de los meses anteriores\n",
        "    dia_juliano = dia\n",
        "    for m in range(1, mes):\n",
        "        dia_juliano += DiasDelMes(m, año)\n",
        "\n",
        "    return dia_juliano\n",
        "\n",
        "# Programa principal\n",
        "def main():\n",
        "    print(\"Cálculo del día juliano\")\n",
        "    print(\"----------------------\")\n",
        "\n",
        "    fecha = LeerFecha()\n",
        "\n",
        "    if fecha is None:\n",
        "        print(\"Fecha no válida\")\n",
        "    else:\n",
        "        dia_juliano = Calcular_Dia_Juliano(fecha)\n",
        "        print(f\"\\nFecha: {fecha[0]}/{fecha[1]}/{fecha[2]}\")\n",
        "        print(f\"Día juliano: {dia_juliano}\")\n",
        "\n",
        "# Ejecutamos el programa\n",
        "main()"
      ],
      "metadata": {
        "id": "EbNdAbeBEV5g",
        "outputId": "4f376605-b5f6-441d-d04c-e29aaffec8d7",
        "colab": {
          "base_uri": "https://localhost:8080/"
        }
      },
      "execution_count": 10,
      "outputs": [
        {
          "output_type": "stream",
          "name": "stdout",
          "text": [
            "Cálculo del día juliano\n",
            "----------------------\n",
            "Introduce el día: 5\n",
            "Introduce el mes: 5\n",
            "Introduce el año: 2006\n",
            "\n",
            "Fecha: 5/5/2006\n",
            "Día juliano: 125\n"
          ]
        }
      ]
    },
    {
      "cell_type": "markdown",
      "source": [
        "\n",
        "10. Función CalcularMCD: Recibe dos números y devuelve el MCD utilizando el método de Euclides.\n",
        "El método de Euclides es el siguiente:\n",
        " * Se divide el número mayor entre el menor.\n",
        " * Si la división es exacta, el divisor es el MCD.\n",
        " * Si la división no es exacta, dividimos el divisor entre el resto obtenido y se continúa de esta forma hasta obtener una división exacta, siendo el último divisor el MCD.\n"
      ],
      "metadata": {
        "id": "xQCJ8l2QPU3m"
      }
    },
    {
      "cell_type": "code",
      "source": [
        "def CalcularMCD(a, b):\n",
        "    # Nos aseguramos de trabajar con valores absolutos\n",
        "    a = abs(a)\n",
        "    b = abs(b)\n",
        "\n",
        "    # Intercambiamos si es necesario para que 'a' sea el mayor\n",
        "    if a < b:\n",
        "        a, b = b, a\n",
        "\n",
        "    # Algoritmo de Euclides\n",
        "    while b != 0:\n",
        "        resto = a % b\n",
        "        a = b\n",
        "        b = resto\n",
        "        # Para mostrar el proceso\n",
        "        print(f\"Dividendo: {a}, Divisor: {b}, Resto: {resto}\")\n",
        "\n",
        "    return a\n",
        "\n",
        "# Programa de prueba\n",
        "print(\"Cálculo del MCD usando el método de Euclides\")\n",
        "print(\"-------------------------------------------\")\n",
        "\n",
        "# Solicitamos los números\n",
        "num1 = int(input(\"Introduce el primer número: \"))\n",
        "num2 = int(input(\"Introduce el segundo número: \"))\n",
        "\n",
        "# Calculamos y mostramos el resultado\n",
        "mcd = CalcularMCD(num1, num2)\n",
        "print(f\"\\nEl MCD de {num1} y {num2} es: {mcd}\")"
      ],
      "metadata": {
        "id": "KZWQBYhdEWow",
        "outputId": "0f8f7013-c946-4c1c-b42a-a901f8076c44",
        "colab": {
          "base_uri": "https://localhost:8080/"
        }
      },
      "execution_count": 11,
      "outputs": [
        {
          "output_type": "stream",
          "name": "stdout",
          "text": [
            "Cálculo del MCD usando el método de Euclides\n",
            "-------------------------------------------\n",
            "Introduce el primer número: 2\n",
            "Introduce el segundo número: 3\n",
            "Dividendo: 2, Divisor: 1, Resto: 1\n",
            "Dividendo: 1, Divisor: 0, Resto: 0\n",
            "\n",
            "El MCD de 2 y 3 es: 1\n"
          ]
        }
      ]
    }
  ]
}